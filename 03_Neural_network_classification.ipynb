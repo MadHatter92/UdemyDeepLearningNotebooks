{
 "cells": [
  {
   "cell_type": "code",
   "execution_count": 5,
   "id": "5459ec50",
   "metadata": {},
   "outputs": [],
   "source": [
    "import torch\n",
    "from torch import nn\n",
    "import matplotlib.pyplot as plt"
   ]
  },
  {
   "cell_type": "code",
   "execution_count": 6,
   "id": "5c770ee6",
   "metadata": {},
   "outputs": [],
   "source": [
    "import numpy as np"
   ]
  },
  {
   "cell_type": "code",
   "execution_count": 7,
   "id": "699b6266",
   "metadata": {},
   "outputs": [],
   "source": [
    "weight = 0.7\n",
    "bias = 0.3\n",
    "start = 0\n",
    "end = 1\n",
    "step = 0.02\n",
    "X = torch.arange(start,end,step).unsqueeze(dim=1)\n",
    "y = weight*X+bias"
   ]
  },
  {
   "cell_type": "code",
   "execution_count": 8,
   "id": "330d9c52",
   "metadata": {},
   "outputs": [],
   "source": [
    "train_split = int(0.8*len(X))\n",
    "X_train, y_train = X[:train_split], y[:train_split]\n",
    "X_test, y_test = X[train_split:], y[train_split:]"
   ]
  },
  {
   "cell_type": "code",
   "execution_count": 9,
   "id": "b21f8b79",
   "metadata": {},
   "outputs": [],
   "source": [
    "def plot_predictions(train_data = X_train,\n",
    "                     train_labels = y_train,\n",
    "                     test_data = X_test,\n",
    "                     test_labels = y_test,\n",
    "                     predictions = None):\n",
    "    plt.figure(figsize = (10,7))\n",
    "    plt.scatter(train_data, train_labels, c = 'b', s=8, label = \"Training data\")\n",
    "    plt.scatter(test_data, test_labels, c='g', s=8, label = \"Testing Data\")\n",
    "    if predictions is not None:\n",
    "        plt.scatter(test_data, predictions, c='r', s=8, label = \"Predictions\")\n",
    "    \n",
    "    plt.legend(prop={'size':14})"
   ]
  },
  {
   "cell_type": "code",
   "execution_count": 10,
   "id": "fda5b2a4",
   "metadata": {},
   "outputs": [
    {
     "data": {
      "image/png": "[encoded data removed]",
      "text/plain": [
       "<Figure size 1000x700 with 1 Axes>"
      ]
     },
     "metadata": {},
     "output_type": "display_data"
    }
   ],
   "source": [
    "plot_predictions()"
   ]
  },
  {
   "cell_type": "code",
   "execution_count": 13,
   "id": "a804be30",
   "metadata": {},
   "outputs": [],
   "source": [
    "\n",
    "class LinearRegressionModelV2(nn.Module):\n",
    "    def __init__(self):\n",
    "        super().__init__()\n",
    "        self.linear_layer = nn.Linear(in_features = 1,\n",
    "                                      out_features = 1)\n",
    "    \n",
    "    def forward(self, x: torch.Tensor) -> torch.Tensor:\n",
    "        return self.linear_layer(x)"
   ]
  },
  {
   "cell_type": "code",
   "execution_count": 14,
   "id": "2cf7cc63",
   "metadata": {},
   "outputs": [
    {
     "data": {
      "text/plain": [
       "<torch._C.Generator at 0x7f9fd597f4f0>"
      ]
     },
     "execution_count": 14,
     "metadata": {},
     "output_type": "execute_result"
    }
   ],
   "source": [
    "torch.manual_seed(42)"
   ]
  },
  {
   "cell_type": "code",
   "execution_count": 15,
   "id": "f88fa386",
   "metadata": {},
   "outputs": [],
   "source": [
    "model_1 = LinearRegressionModelV2()"
   ]
  },
  {
   "cell_type": "code",
   "execution_count": 18,
   "id": "ee3efcb9",
   "metadata": {},
   "outputs": [
    {
     "data": {
      "text/plain": [
       "OrderedDict([('linear_layer.weight', tensor([[0.7645]])),\n",
       "             ('linear_layer.bias', tensor([0.8300]))])"
      ]
     },
     "execution_count": 18,
     "metadata": {},
     "output_type": "execute_result"
    }
   ],
   "source": [
    "model_1.state_dict()"
   ]
  },
  {
   "cell_type": "code",
   "execution_count": 20,
   "id": "6ad6da39",
   "metadata": {},
   "outputs": [
    {
     "data": {
      "text/plain": [
       "device(type='cpu')"
      ]
     },
     "execution_count": 20,
     "metadata": {},
     "output_type": "execute_result"
    }
   ],
   "source": [
    "next(model_1.parameters()).device"
   ]
  },
  {
   "cell_type": "markdown",
   "id": "9395908a",
   "metadata": {},
   "source": [
    "Digression: Iterating over generator object"
   ]
  },
  {
   "cell_type": "code",
   "execution_count": 29,
   "id": "ba8fe889",
   "metadata": {},
   "outputs": [
    {
     "name": "stdout",
     "output_type": "stream",
     "text": [
      "Parameter containing:\n",
      "tensor([[0.7645]], requires_grad=True)\n",
      "Parameter containing:\n",
      "tensor([0.8300], requires_grad=True)\n"
     ]
    }
   ],
   "source": [
    "for item in model_1.parameters():\n",
    "    print(item)"
   ]
  },
  {
   "cell_type": "code",
   "execution_count": 30,
   "id": "bdcce785",
   "metadata": {},
   "outputs": [
    {
     "data": {
      "text/plain": [
       "Parameter containing:\n",
       "tensor([[0.7645]], requires_grad=True)"
      ]
     },
     "execution_count": 30,
     "metadata": {},
     "output_type": "execute_result"
    }
   ],
   "source": [
    "next(model_1.parameters())"
   ]
  },
  {
   "cell_type": "code",
   "execution_count": 32,
   "id": "fd636382",
   "metadata": {},
   "outputs": [
    {
     "data": {
      "text/plain": [
       "<generator object Module.parameters at 0x7f9f091fdfc0>"
      ]
     },
     "execution_count": 32,
     "metadata": {},
     "output_type": "execute_result"
    }
   ],
   "source": [
    "model_1.parameters()"
   ]
  },
  {
   "cell_type": "code",
   "execution_count": 41,
   "id": "0f284529",
   "metadata": {},
   "outputs": [
    {
     "data": {
      "text/plain": [
       "0.7645385265350342"
      ]
     },
     "execution_count": 41,
     "metadata": {},
     "output_type": "execute_result"
    }
   ],
   "source": [
    "model_1.state_dict()['linear_layer.weight'].item()"
   ]
  },
  {
   "cell_type": "markdown",
   "id": "41281a1d",
   "metadata": {},
   "source": [
    "Digression over"
   ]
  },
  {
   "cell_type": "code",
   "execution_count": 31,
   "id": "1154c23f",
   "metadata": {},
   "outputs": [],
   "source": [
    "# Loss function\n",
    "loss_fn = nn.L1Loss()\n",
    "# Optimizer\n",
    "optimizer = torch.optim.SGD(params = model_1.parameters(), \n",
    "                            lr = 0.01)"
   ]
  },
  {
   "cell_type": "code",
   "execution_count": 42,
   "id": "b32d2467",
   "metadata": {},
   "outputs": [
    {
     "name": "stdout",
     "output_type": "stream",
     "text": [
      "Epoch: 0 | Training Loss: 0.5551779866218567 | Test Loss: 0.5739762187004089 | Weight: 0.7606385350227356 | Bias: 0.8200079202651978\n",
      "Epoch: 10 | Training Loss: 0.4399680495262146 | Test Loss: 0.4392663538455963 | Weight: 0.7216386198997498 | Bias: 0.7200080156326294\n",
      "Epoch: 20 | Training Loss: 0.3247582018375397 | Test Loss: 0.30455657839775085 | Weight: 0.6826387047767639 | Bias: 0.620008111000061\n",
      "Epoch: 30 | Training Loss: 0.20954827964305878 | Test Loss: 0.16984674334526062 | Weight: 0.6436387896537781 | Bias: 0.5200082063674927\n",
      "Epoch: 40 | Training Loss: 0.09433844685554504 | Test Loss: 0.03513689711689949 | Weight: 0.6046388745307922 | Bias: 0.4200083017349243\n",
      "Epoch: 50 | Training Loss: 0.023886386305093765 | Test Loss: 0.04784906655550003 | Weight: 0.5872389078140259 | Bias: 0.3525083065032959\n",
      "Epoch: 60 | Training Loss: 0.0199567973613739 | Test Loss: 0.04580312222242355 | Weight: 0.6024590134620667 | Bias: 0.34100836515426636\n",
      "Epoch: 70 | Training Loss: 0.016517987474799156 | Test Loss: 0.0375305712223053 | Weight: 0.6196190714836121 | Bias: 0.33400845527648926\n",
      "Epoch: 80 | Training Loss: 0.013089170679450035 | Test Loss: 0.029944902285933495 | Weight: 0.6365691423416138 | Bias: 0.3265085518360138\n",
      "Epoch: 90 | Training Loss: 0.009653178043663502 | Test Loss: 0.02167237363755703 | Weight: 0.6537292003631592 | Bias: 0.3195086419582367\n",
      "Epoch: 100 | Training Loss: 0.006215679459273815 | Test Loss: 0.014086711220443249 | Weight: 0.6706792712211609 | Bias: 0.31200873851776123\n",
      "Epoch: 110 | Training Loss: 0.002787243574857712 | Test Loss: 0.005814164876937866 | Weight: 0.6878393292427063 | Bias: 0.30500882863998413\n",
      "Epoch: 120 | Training Loss: 0.0012645035749301314 | Test Loss: 0.013801807537674904 | Weight: 0.6929093599319458 | Bias: 0.2925088703632355\n",
      "Epoch: 130 | Training Loss: 0.0012645035749301314 | Test Loss: 0.013801807537674904 | Weight: 0.6929093599319458 | Bias: 0.2925088703632355\n",
      "Epoch: 140 | Training Loss: 0.0012645035749301314 | Test Loss: 0.013801807537674904 | Weight: 0.6929093599319458 | Bias: 0.2925088703632355\n",
      "Epoch: 150 | Training Loss: 0.0012645035749301314 | Test Loss: 0.013801807537674904 | Weight: 0.6929093599319458 | Bias: 0.2925088703632355\n",
      "Epoch: 160 | Training Loss: 0.0012645035749301314 | Test Loss: 0.013801807537674904 | Weight: 0.6929093599319458 | Bias: 0.2925088703632355\n",
      "Epoch: 170 | Training Loss: 0.0012645035749301314 | Test Loss: 0.013801807537674904 | Weight: 0.6929093599319458 | Bias: 0.2925088703632355\n",
      "Epoch: 180 | Training Loss: 0.0012645035749301314 | Test Loss: 0.013801807537674904 | Weight: 0.6929093599319458 | Bias: 0.2925088703632355\n",
      "Epoch: 190 | Training Loss: 0.0012645035749301314 | Test Loss: 0.013801807537674904 | Weight: 0.6929093599319458 | Bias: 0.2925088703632355\n"
     ]
    }
   ],
   "source": [
    "# Training Loop\n",
    "torch.manual_seed(42)\n",
    "\n",
    "epochs = 200\n",
    "\n",
    "for epoch in range(epochs):\n",
    "    model_1.train()\n",
    "    #forward pass\n",
    "    y_pred = model_1(X_train)\n",
    "    #loss calc\n",
    "    loss = loss_fn(y_pred, y_train)\n",
    "    #optimizer zero grad\n",
    "    optimizer.zero_grad()\n",
    "    #backpropagation\n",
    "    loss.backward()\n",
    "    #Optimizer step\n",
    "    optimizer.step()\n",
    "    #Testing\n",
    "    model_1.eval()\n",
    "    with torch.inference_mode():\n",
    "        test_pred = model_1(X_test)\n",
    "        test_loss = loss_fn(test_pred, y_test)\n",
    "    \n",
    "    if epoch%10 == 0:\n",
    "        print(f\"Epoch: {epoch} | Training Loss: {loss} | Test Loss: {test_loss} | Weight: {model_1.state_dict()['linear_layer.weight'].item()} | Bias: {model_1.state_dict()['linear_layer.bias'].item()}\")"
   ]
  },
  {
   "cell_type": "code",
   "execution_count": 44,
   "id": "3d03a365",
   "metadata": {},
   "outputs": [
    {
     "data": {
      "text/plain": [
       "array([[0.8599564 ],\n",
       "       [0.87389255],\n",
       "       [0.8878287 ],\n",
       "       [0.90176487],\n",
       "       [0.91570103],\n",
       "       [0.9296373 ],\n",
       "       [0.9435735 ],\n",
       "       [0.95750964],\n",
       "       [0.9714458 ],\n",
       "       [0.9853821 ]], dtype=float32)"
      ]
     },
     "execution_count": 44,
     "metadata": {},
     "output_type": "execute_result"
    }
   ],
   "source": [
    "model_1.eval()\n",
    "\n",
    "with torch.inference_mode():\n",
    "    y_preds = model_1(X_test)\n",
    "y_preds.numpy()"
   ]
  },
  {
   "cell_type": "code",
   "execution_count": 46,
   "id": "2dfce719",
   "metadata": {},
   "outputs": [
    {
     "data": {
      "image/png": "[encoded data removed]",
      "text/plain": [
       "<Figure size 1000x700 with 1 Axes>"
      ]
     },
     "metadata": {},
     "output_type": "display_data"
    }
   ],
   "source": [
    "plot_predictions(predictions = y_preds.numpy())"
   ]
  },
  {
   "cell_type": "code",
   "execution_count": 49,
   "id": "cb316ea7",
   "metadata": {},
   "outputs": [],
   "source": [
    "torch.save(model_1.state_dict(), './models/02_linear_regression_v2.pth')"
   ]
  },
  {
   "cell_type": "code",
   "execution_count": 50,
   "id": "0b0a0590",
   "metadata": {},
   "outputs": [],
   "source": [
    "model_2 = LinearRegressionModelV2()"
   ]
  },
  {
   "cell_type": "code",
   "execution_count": 51,
   "id": "521425c8",
   "metadata": {},
   "outputs": [
    {
     "data": {
      "text/plain": [
       "<All keys matched successfully>"
      ]
     },
     "execution_count": 51,
     "metadata": {},
     "output_type": "execute_result"
    }
   ],
   "source": [
    "model_2.load_state_dict(torch.load('./models/02_linear_regression_v2.pth'))"
   ]
  },
  {
   "cell_type": "code",
   "execution_count": 53,
   "id": "4e6f9a83",
   "metadata": {},
   "outputs": [
    {
     "data": {
      "text/plain": [
       "LinearRegressionModelV2(\n",
       "  (linear_layer): Linear(in_features=1, out_features=1, bias=True)\n",
       ")"
      ]
     },
     "execution_count": 53,
     "metadata": {},
     "output_type": "execute_result"
    }
   ],
   "source": [
    "model_2.eval()"
   ]
  },
  {
   "cell_type": "code",
   "execution_count": 54,
   "id": "05d68767",
   "metadata": {},
   "outputs": [
    {
     "data": {
      "text/plain": [
       "tensor([[0.8600],\n",
       "        [0.8739],\n",
       "        [0.8878],\n",
       "        [0.9018],\n",
       "        [0.9157],\n",
       "        [0.9296],\n",
       "        [0.9436],\n",
       "        [0.9575],\n",
       "        [0.9714],\n",
       "        [0.9854]])"
      ]
     },
     "execution_count": 54,
     "metadata": {},
     "output_type": "execute_result"
    }
   ],
   "source": [
    "model_2.eval()\n",
    "\n",
    "with torch.inference_mode():\n",
    "    y_preds = model_2(X_test)\n",
    "y_preds"
   ]
  },
  {
   "cell_type": "code",
   "execution_count": 55,
   "id": "a9b39ca4",
   "metadata": {},
   "outputs": [
    {
     "data": {
      "image/png": "[encoded data removed]",
      "text/plain": [
       "<Figure size 1000x700 with 1 Axes>"
      ]
     },
     "metadata": {},
     "output_type": "display_data"
    }
   ],
   "source": [
    "plot_predictions(predictions = y_preds.numpy())"
   ]
  },
  {
   "cell_type": "code",
   "execution_count": 56,
   "id": "a3bbfa84",
   "metadata": {},
   "outputs": [
    {
     "data": {
      "text/plain": [
       "OrderedDict([('linear_layer.weight', tensor([[0.6968]])),\n",
       "             ('linear_layer.bias', tensor([0.3025]))])"
      ]
     },
     "execution_count": 56,
     "metadata": {},
     "output_type": "execute_result"
    }
   ],
   "source": [
    "model_2.state_dict()"
   ]
  },
  {
   "cell_type": "code",
   "execution_count": 57,
   "id": "c3cd5ce7",
   "metadata": {},
   "outputs": [
    {
     "data": {
      "text/plain": [
       "OrderedDict([('linear_layer.weight', tensor([[0.6968]])),\n",
       "             ('linear_layer.bias', tensor([0.3025]))])"
      ]
     },
     "execution_count": 57,
     "metadata": {},
     "output_type": "execute_result"
    }
   ],
   "source": [
    "model_1.state_dict()"
   ]
  },
  {
   "cell_type": "code",
   "execution_count": null,
   "id": "460926eb",
   "metadata": {},
   "outputs": [],
   "source": []
  }
 ],
 "metadata": {
  "kernelspec": {
   "display_name": "Python 3 (ipykernel)",
   "language": "python",
   "name": "python3"
  },
  "language_info": {
   "codemirror_mode": {
    "name": "ipython",
    "version": 3
   },
   "file_extension": ".py",
   "mimetype": "text/x-python",
   "name": "python",
   "nbconvert_exporter": "python",
   "pygments_lexer": "ipython3",
   "version": "3.10.6"
  }
 },
 "nbformat": 4,
 "nbformat_minor": 5
}
